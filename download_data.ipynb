{
 "cells": [
  {
   "cell_type": "code",
   "execution_count": 1,
   "metadata": {},
   "outputs": [
    {
     "name": "stderr",
     "output_type": "stream",
     "text": [
      "/shared/data3/xzhong23/miniconda3/envs/llama/lib/python3.10/site-packages/tqdm/auto.py:21: TqdmWarning: IProgress not found. Please update jupyter and ipywidgets. See https://ipywidgets.readthedocs.io/en/stable/user_install.html\n",
      "  from .autonotebook import tqdm as notebook_tqdm\n"
     ]
    }
   ],
   "source": [
    "from datasets import load_dataset\n",
    "raw_datasets = load_dataset(\"ise-uiuc/Magicoder-OSS-Instruct-75K\")"
   ]
  },
  {
   "cell_type": "code",
   "execution_count": 9,
   "metadata": {},
   "outputs": [
    {
     "data": {
      "text/plain": [
       "DatasetDict({\n",
       "    train: Dataset({\n",
       "        features: ['lang', 'raw_index', 'index', 'seed', 'openai_fingerprint', 'problem', 'solution'],\n",
       "        num_rows: 75197\n",
       "    })\n",
       "})"
      ]
     },
     "execution_count": 9,
     "metadata": {},
     "output_type": "execute_result"
    }
   ],
   "source": [
    "raw_datasets"
   ]
  },
  {
   "cell_type": "code",
   "execution_count": 14,
   "metadata": {},
   "outputs": [],
   "source": [
    "problems = []\n",
    "solutions = []\n",
    "for data in raw_datasets['train']:\n",
    "    if data['lang'] == 'cpp':\n",
    "        problems.append(data['problem'])\n",
    "        solutions.append(data['solution'])"
   ]
  },
  {
   "cell_type": "code",
   "execution_count": 15,
   "metadata": {},
   "outputs": [
    {
     "data": {
      "text/plain": [
       "4699"
      ]
     },
     "execution_count": 15,
     "metadata": {},
     "output_type": "execute_result"
    }
   ],
   "source": [
    "len(problems)"
   ]
  },
  {
   "cell_type": "code",
   "execution_count": 34,
   "metadata": {},
   "outputs": [
    {
     "data": {
      "text/plain": [
       "\"```cpp\\n#include <unordered_set>\\n#include <cmath>\\n\\nclass Solution {\\npublic:\\n    bool checkPerfectNumber(int num) {\\n        if (num <= 1) {\\n            return false;\\n        }\\n\\n        int sum = 1;  // 1 is always a proper divisor\\n        int sqrtNum = sqrt(num);\\n        for (int i = 2; i <= sqrtNum; i++) {\\n            if (num % i == 0) {\\n                sum += i;\\n                if (i != num / i) {\\n                    sum += num / i;\\n                }\\n            }\\n        }\\n\\n        return sum == num;\\n    }\\n};\\n```\\nIn the `checkPerfectNumber` method, we first handle the base case where `num` is less than or equal to 1, in which case it cannot be a perfect number. Then, we iterate through all numbers from 2 to the square root of `num` to find its proper divisors. For each divisor found, we add it to the `sum` and also add its complement divisor if it's not the same. Finally, we compare the `sum` with the original `num` and return `true` if they are equal, indicating that `num` is a perfect number, and `false` otherwise.\""
      ]
     },
     "execution_count": 34,
     "metadata": {},
     "output_type": "execute_result"
    }
   ],
   "source": [
    "solutions[1]"
   ]
  },
  {
   "cell_type": "code",
   "execution_count": 32,
   "metadata": {},
   "outputs": [],
   "source": [
    "import re\n",
    "pattern = r'```cpp(.*?)```'\n",
    "matches = re.findall(pattern, solutions[2], re.DOTALL)"
   ]
  },
  {
   "cell_type": "code",
   "execution_count": 33,
   "metadata": {},
   "outputs": [
    {
     "data": {
      "text/plain": [
       "'\\n#include <unordered_set>\\n#include <cmath>\\n\\nclass Solution {\\npublic:\\n    bool checkPerfectNumber(int num) {\\n        if (num <= 1) {\\n            return false;\\n        }\\n\\n        int sum = 1;  // 1 is always a proper divisor\\n        int sqrtNum = sqrt(num);\\n        for (int i = 2; i <= sqrtNum; i++) {\\n            if (num % i == 0) {\\n                sum += i;\\n                if (i != num / i) {\\n                    sum += num / i;\\n                }\\n            }\\n        }\\n\\n        return sum == num;\\n    }\\n};\\n'"
      ]
     },
     "execution_count": 33,
     "metadata": {},
     "output_type": "execute_result"
    }
   ],
   "source": [
    "matches[0]"
   ]
  },
  {
   "cell_type": "code",
   "execution_count": 19,
   "metadata": {},
   "outputs": [],
   "source": [
    "with open('./Test Code/test2.cpp', 'w') as f:\n",
    "    f.write(solutions[2])"
   ]
  },
  {
   "cell_type": "code",
   "execution_count": 24,
   "metadata": {},
   "outputs": [],
   "source": [
    "with open('./test_prompt/test2.txt', 'w') as f:\n",
    "    f.write(problems[2])"
   ]
  }
 ],
 "metadata": {
  "kernelspec": {
   "display_name": "llama",
   "language": "python",
   "name": "python3"
  },
  "language_info": {
   "codemirror_mode": {
    "name": "ipython",
    "version": 3
   },
   "file_extension": ".py",
   "mimetype": "text/x-python",
   "name": "python",
   "nbconvert_exporter": "python",
   "pygments_lexer": "ipython3",
   "version": "3.10.13"
  }
 },
 "nbformat": 4,
 "nbformat_minor": 2
}
