{
 "cells": [
  {
   "cell_type": "code",
   "execution_count": 1,
   "metadata": {},
   "outputs": [
    {
     "name": "stderr",
     "output_type": "stream",
     "text": [
      "/shared/data3/xzhong23/miniconda3/envs/llama/lib/python3.10/site-packages/tqdm/auto.py:21: TqdmWarning: IProgress not found. Please update jupyter and ipywidgets. See https://ipywidgets.readthedocs.io/en/stable/user_install.html\n",
      "  from .autonotebook import tqdm as notebook_tqdm\n"
     ]
    }
   ],
   "source": [
    "from datasets import load_dataset\n",
    "raw_datasets = load_dataset(\"ise-uiuc/Magicoder-OSS-Instruct-75K\")"
   ]
  },
  {
   "cell_type": "code",
   "execution_count": 2,
   "metadata": {},
   "outputs": [],
   "source": [
    "problems = []\n",
    "solutions = []\n",
    "for data in raw_datasets['train']:\n",
    "    if data['lang'] == 'cpp':\n",
    "        problems.append(data['problem'])\n",
    "        solutions.append(data['solution'])"
   ]
  },
  {
   "cell_type": "code",
   "execution_count": 3,
   "metadata": {},
   "outputs": [
    {
     "data": {
      "text/plain": [
       "4699"
      ]
     },
     "execution_count": 3,
     "metadata": {},
     "output_type": "execute_result"
    }
   ],
   "source": [
    "len(problems)"
   ]
  },
  {
   "cell_type": "code",
   "execution_count": 11,
   "metadata": {},
   "outputs": [],
   "source": [
    "import re\n",
    "import os\n",
    "import traceback\n",
    "\n",
    "for i in range(0, 3076):\n",
    "    try:\n",
    "        pattern = r'```cpp(.*?)```'\n",
    "        matches = re.findall(pattern, solutions[i], re.DOTALL)\n",
    "        if len(matches) > 0:\n",
    "            file = os.path.join('/shared/data3/xzhong23/CS562_Project/Test Code', f'test{i}.cpp')\n",
    "            with open(file, 'w') as f:\n",
    "                f.write(matches[0].lstrip('\\n'))\n",
    "        else:\n",
    "            pattern = r'```c(.*?)```'\n",
    "            matches = re.findall(pattern, solutions[i], re.DOTALL)\n",
    "            if len(matches) > 0:\n",
    "                file = os.path.join('/shared/data3/xzhong23/CS562_Project/Test Code', f'test{i}.cpp')\n",
    "                with open(file, 'w') as f:\n",
    "                    f.write(matches[0].lstrip('\\n'))\n",
    "            else:\n",
    "                pattern = r'```(.*?)```'\n",
    "                matches = re.findall(pattern, solutions[i], re.DOTALL)\n",
    "                if len(matches) > 0:\n",
    "                    file = os.path.join('/shared/data3/xzhong23/CS562_Project/Test Code', f'test{i}.cpp')\n",
    "                    with open(file, 'w') as f:\n",
    "                        f.write(matches[0].lstrip('\\n'))\n",
    "    except:\n",
    "        print(f\"i:{i}\")\n",
    "        print(solutions[i])\n",
    "        traceback.print_exc()\n",
    "        break"
   ]
  }
 ],
 "metadata": {
  "kernelspec": {
   "display_name": "llama",
   "language": "python",
   "name": "python3"
  },
  "language_info": {
   "codemirror_mode": {
    "name": "ipython",
    "version": 3
   },
   "file_extension": ".py",
   "mimetype": "text/x-python",
   "name": "python",
   "nbconvert_exporter": "python",
   "pygments_lexer": "ipython3",
   "version": "3.10.13"
  }
 },
 "nbformat": 4,
 "nbformat_minor": 2
}
